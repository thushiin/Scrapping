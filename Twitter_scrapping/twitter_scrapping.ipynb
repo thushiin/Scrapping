{
 "cells": [
  {
   "cell_type": "code",
   "execution_count": null,
   "metadata": {},
   "outputs": [],
   "source": [
    "from selenium import webdriver\n",
    "from selenium.webdriver.common.keys import Keys\n",
    "\n",
    "# import chromedriver_binary\n",
    "# from urllib.request import urlopen\n",
    "# from selenium.webdriver.support.select import Select\n",
    "# from selenium.webdriver.support.ui import WebDriverWait\n",
    "# from selenium.webdriver.support import expected_conditions as EC\n",
    "# from selenium import webdriver as selenium_webdriver\n",
    "import time\n",
    "from selenium.webdriver.chrome.service import Service\n",
    "import pandas as pd\n",
    "from selenium.webdriver.common.by import By\n",
    "\n",
    "service=Service(executable_path=r'/Users/thushinbhanu/Downloads/chrome driver/chromedriver-mac-arm64/chromedriver')\n",
    "options=webdriver.ChromeOptions()\n",
    "driver=webdriver.Chrome(service=service,options=options)\n",
    "\n",
    "driver.get(\"https://twitter.com/?lang=en\")\n",
    "driver.maximize_window()\n",
    "time.sleep(3)\n",
    "\n",
    "signin=driver.find_element(By.XPATH,'//*[@id=\"react-root\"]/div/div/div[2]/main/div/div/div[1]/div/div/div[3]/div[5]/a/div/span')\n",
    "signin.click()\n",
    "time.sleep(2)\n",
    "\n",
    "email= driver.find_element(By.XPATH,'//*[@id=\"layers\"]/div[2]/div/div/div/div/div/div[2]/div[2]/div/div/div[2]/div[2]/div/div/div/div[5]/label/div/div[2]/div/input')\n",
    "email.send_keys(\"thushinbhanu@gmail.com\")\n",
    "\n",
    "next=driver.find_element(By.XPATH,'//*[@id=\"layers\"]/div[2]/div/div/div/div/div/div[2]/div[2]/div/div/div[2]/div[2]/div/div/div/div[6]/div')\n",
    "next.click()\n",
    "time.sleep(2)\n",
    "\n",
    "password=driver.find_element(By.XPATH,'//*[@id=\"layers\"]/div[2]/div/div/div/div/div/div[2]/div[2]/div/div/div[2]/div[2]/div[1]/div/div/div[3]/div/label/div/div[2]/div[1]/input')\n",
    "password.send_keys(\"Thushin@2001\")\n",
    "\n",
    "next1=driver.find_element(By.XPATH,'//*[@id=\"layers\"]/div[2]/div/div/div/div/div/div[2]/div[2]/div/div/div[2]/div[2]/div[2]/div/div[1]/div/div/div/div')\n",
    "next1.click()\n",
    "time.sleep(2)\n"
   ]
  },
  {
   "cell_type": "code",
   "execution_count": 97,
   "metadata": {},
   "outputs": [],
   "source": [
    "search=driver.find_element(By.XPATH,'//*[@id=\"react-root\"]/div/div/div[2]/header/div/div/div/div[1]/div[2]/nav/a[2]')\n",
    "search.click()"
   ]
  },
  {
   "cell_type": "code",
   "execution_count": 98,
   "metadata": {},
   "outputs": [],
   "source": [
    "search1=driver.find_element(By.XPATH,'//*[@id=\"react-root\"]/div/div/div[2]/main/div/div/div/div/div/div[1]/div[1]/div[1]/div/div/div/div/div[2]/div[2]/div/div/div/form/div[1]/div/div/div/label/div[2]/div/input')\n",
    "search1.send_keys('mammootty')\n",
    "search1.send_keys(Keys.ENTER)\n"
   ]
  },
  {
   "cell_type": "code",
   "execution_count": 111,
   "metadata": {},
   "outputs": [
    {
     "data": {
      "text/plain": [
       "11419"
      ]
     },
     "execution_count": 111,
     "metadata": {},
     "output_type": "execute_result"
    }
   ],
   "source": [
    "scroll=int(driver.execute_script(\"return document.body.scrollHeight\"))\n"
   ]
  },
  {
   "cell_type": "code",
   "execution_count": 179,
   "metadata": {},
   "outputs": [],
   "source": [
    "for i in range(1, scroll, 5):\n",
    "    # print(i)\n",
    "\n",
    "    driver.execute_script(\"window.scrollTo(0, {});\".format(i))\n",
    "    # time.sleep(0.02)\n",
    "    # tweets=driver.find_elements(By.XPATH,'//*[@data-testid=\"tweetText\"]')\n",
    "    # for t in tweets:\n",
    "    #     print(t.text)\n",
    "    "
   ]
  },
  {
   "cell_type": "code",
   "execution_count": 182,
   "metadata": {},
   "outputs": [],
   "source": [
    "tweet=[]\n",
    "\n",
    "tweets=driver.find_elements(By.XPATH,'//*[@data-testid=\"tweetText\"]')\n",
    "for t in tweets:\n",
    "    tweet.append(t.text)"
   ]
  },
  {
   "cell_type": "code",
   "execution_count": null,
   "metadata": {},
   "outputs": [],
   "source": [
    "tweet"
   ]
  },
  {
   "cell_type": "code",
   "execution_count": 184,
   "metadata": {},
   "outputs": [],
   "source": [
    "df=pd.DataFrame({'Tweets':tweet})\n",
    "df.to_csv('twitterscrap.csv')"
   ]
  },
  {
   "cell_type": "code",
   "execution_count": 1,
   "metadata": {},
   "outputs": [
    {
     "data": {
      "text/html": [
       "<div>\n",
       "<style scoped>\n",
       "    .dataframe tbody tr th:only-of-type {\n",
       "        vertical-align: middle;\n",
       "    }\n",
       "\n",
       "    .dataframe tbody tr th {\n",
       "        vertical-align: top;\n",
       "    }\n",
       "\n",
       "    .dataframe thead th {\n",
       "        text-align: right;\n",
       "    }\n",
       "</style>\n",
       "<table border=\"1\" class=\"dataframe\">\n",
       "  <thead>\n",
       "    <tr style=\"text-align: right;\">\n",
       "      <th></th>\n",
       "      <th>Unnamed: 0</th>\n",
       "      <th>Tweets</th>\n",
       "    </tr>\n",
       "  </thead>\n",
       "  <tbody>\n",
       "    <tr>\n",
       "      <th>0</th>\n",
       "      <td>0</td>\n",
       "      <td>The Big \"M\"s And The \"D\"\\nമാർക്കറ്റ് ഒക്കെ ഇത്...</td>\n",
       "    </tr>\n",
       "    <tr>\n",
       "      <th>1</th>\n",
       "      <td>1</td>\n",
       "      <td>Megastar Mammookka &amp; Mohanlal latest click \\n\\...</td>\n",
       "    </tr>\n",
       "    <tr>\n",
       "      <th>2</th>\n",
       "      <td>2</td>\n",
       "      <td>Teaser cuts getting ready \\n\\n#Bazooka #Mammoo...</td>\n",
       "    </tr>\n",
       "    <tr>\n",
       "      <th>3</th>\n",
       "      <td>3</td>\n",
       "      <td>#Turbo Malta release through \\n@indeser_films\\...</td>\n",
       "    </tr>\n",
       "    <tr>\n",
       "      <th>4</th>\n",
       "      <td>4</td>\n",
       "      <td>King &amp; Prince \\n@mammukka\\n @dulQuer\\n \\n#Mam...</td>\n",
       "    </tr>\n",
       "    <tr>\n",
       "      <th>5</th>\n",
       "      <td>5</td>\n",
       "      <td>Pic \\n\\n#Mammootty</td>\n",
       "    </tr>\n",
       "    <tr>\n",
       "      <th>6</th>\n",
       "      <td>6</td>\n",
       "      <td>Mammookka..Kunju Mariyam \\n\\nGrand Father &amp; Gr...</td>\n",
       "    </tr>\n",
       "  </tbody>\n",
       "</table>\n",
       "</div>"
      ],
      "text/plain": [
       "   Unnamed: 0                                             Tweets\n",
       "0           0  The Big \"M\"s And The \"D\"\\nമാർക്കറ്റ് ഒക്കെ ഇത്...\n",
       "1           1  Megastar Mammookka & Mohanlal latest click \\n\\...\n",
       "2           2  Teaser cuts getting ready \\n\\n#Bazooka #Mammoo...\n",
       "3           3  #Turbo Malta release through \\n@indeser_films\\...\n",
       "4           4   King & Prince \\n@mammukka\\n @dulQuer\\n \\n#Mam...\n",
       "5           5                                 Pic \\n\\n#Mammootty\n",
       "6           6  Mammookka..Kunju Mariyam \\n\\nGrand Father & Gr..."
      ]
     },
     "execution_count": 1,
     "metadata": {},
     "output_type": "execute_result"
    }
   ],
   "source": []
  },
  {
   "cell_type": "code",
   "execution_count": 186,
   "metadata": {},
   "outputs": [
    {
     "name": "stdout",
     "output_type": "stream",
     "text": [
      "Collecting transformers\n",
      "  Downloading transformers-4.40.0-py3-none-any.whl (9.0 MB)\n",
      "\u001b[2K     \u001b[90m━━━━━━━━━━━━━━━━━━━━━━━━━━━━━━━━━━━━━━━━\u001b[0m \u001b[32m9.0/9.0 MB\u001b[0m \u001b[31m575.4 kB/s\u001b[0m eta \u001b[36m0:00:00\u001b[0m00:01\u001b[0m00:01\u001b[0m\n",
      "\u001b[?25hCollecting filelock (from transformers)\n",
      "  Downloading filelock-3.13.4-py3-none-any.whl (11 kB)\n",
      "Collecting huggingface-hub<1.0,>=0.19.3 (from transformers)\n",
      "  Downloading huggingface_hub-0.22.2-py3-none-any.whl (388 kB)\n",
      "\u001b[2K     \u001b[90m━━━━━━━━━━━━━━━━━━━━━━━━━━━━━━━━━━━━━\u001b[0m \u001b[32m388.9/388.9 kB\u001b[0m \u001b[31m484.8 kB/s\u001b[0m eta \u001b[36m0:00:00\u001b[0ma \u001b[36m0:00:01\u001b[0m\n",
      "\u001b[?25hRequirement already satisfied: numpy>=1.17 in /Library/Frameworks/Python.framework/Versions/3.11/lib/python3.11/site-packages (from transformers) (1.25.1)\n",
      "Requirement already satisfied: packaging>=20.0 in /Users/thushinbhanu/Library/Python/3.11/lib/python/site-packages (from transformers) (23.2)\n",
      "Collecting pyyaml>=5.1 (from transformers)\n",
      "  Downloading PyYAML-6.0.1-cp311-cp311-macosx_11_0_arm64.whl (167 kB)\n",
      "\u001b[2K     \u001b[90m━━━━━━━━━━━━━━━━━━━━━━━━━━━━━━━━━━━━━\u001b[0m \u001b[32m167.5/167.5 kB\u001b[0m \u001b[31m443.1 kB/s\u001b[0m eta \u001b[36m0:00:00\u001b[0ma \u001b[36m0:00:01\u001b[0m\n",
      "\u001b[?25hRequirement already satisfied: regex!=2019.12.17 in /Library/Frameworks/Python.framework/Versions/3.11/lib/python3.11/site-packages (from transformers) (2023.12.25)\n",
      "Collecting requests (from transformers)\n",
      "  Downloading requests-2.31.0-py3-none-any.whl (62 kB)\n",
      "\u001b[2K     \u001b[90m━━━━━━━━━━━━━━━━━━━━━━━━━━━━━━━━━━━━━━━\u001b[0m \u001b[32m62.6/62.6 kB\u001b[0m \u001b[31m435.1 kB/s\u001b[0m eta \u001b[36m0:00:00\u001b[0m00:01\u001b[0m00:01\u001b[0m\n",
      "\u001b[?25hCollecting tokenizers<0.20,>=0.19 (from transformers)\n",
      "  Downloading tokenizers-0.19.1-cp311-cp311-macosx_11_0_arm64.whl (2.4 MB)\n",
      "\u001b[2K     \u001b[90m━━━━━━━━━━━━━━━━━━━━━━━━━━━━━━━━━━━━━━━━\u001b[0m \u001b[32m2.4/2.4 MB\u001b[0m \u001b[31m532.4 kB/s\u001b[0m eta \u001b[36m0:00:00\u001b[0m00:01\u001b[0m00:01\u001b[0m\n",
      "\u001b[?25hCollecting safetensors>=0.4.1 (from transformers)\n",
      "  Downloading safetensors-0.4.3-cp311-cp311-macosx_11_0_arm64.whl (410 kB)\n",
      "\u001b[2K     \u001b[90m━━━━━━━━━━━━━━━━━━━━━━━━━━━━━━━━━━━━━\u001b[0m \u001b[32m410.3/410.3 kB\u001b[0m \u001b[31m713.3 kB/s\u001b[0m eta \u001b[36m0:00:00\u001b[0ma \u001b[36m0:00:01\u001b[0m\n",
      "\u001b[?25hRequirement already satisfied: tqdm>=4.27 in /Library/Frameworks/Python.framework/Versions/3.11/lib/python3.11/site-packages (from transformers) (4.66.2)\n",
      "Collecting fsspec>=2023.5.0 (from huggingface-hub<1.0,>=0.19.3->transformers)\n",
      "  Downloading fsspec-2024.3.1-py3-none-any.whl (171 kB)\n",
      "\u001b[2K     \u001b[90m━━━━━━━━━━━━━━━━━━━━━━━━━━━━━━━━━━━━━━━\u001b[0m \u001b[32m172.0/172.0 kB\u001b[0m \u001b[31m1.3 MB/s\u001b[0m eta \u001b[36m0:00:00\u001b[0ma \u001b[36m0:00:01\u001b[0m\n",
      "\u001b[?25hRequirement already satisfied: typing-extensions>=3.7.4.3 in /Library/Frameworks/Python.framework/Versions/3.11/lib/python3.11/site-packages (from huggingface-hub<1.0,>=0.19.3->transformers) (4.11.0)\n",
      "Collecting charset-normalizer<4,>=2 (from requests->transformers)\n",
      "  Downloading charset_normalizer-3.3.2-cp311-cp311-macosx_11_0_arm64.whl (118 kB)\n",
      "\u001b[2K     \u001b[90m━━━━━━━━━━━━━━━━━━━━━━━━━━━━━━━━━━━━━━━\u001b[0m \u001b[32m119.0/119.0 kB\u001b[0m \u001b[31m1.2 MB/s\u001b[0m eta \u001b[36m0:00:00\u001b[0ma \u001b[36m0:00:01\u001b[0m\n",
      "\u001b[?25hRequirement already satisfied: idna<4,>=2.5 in /Library/Frameworks/Python.framework/Versions/3.11/lib/python3.11/site-packages (from requests->transformers) (3.7)\n",
      "Requirement already satisfied: urllib3<3,>=1.21.1 in /Library/Frameworks/Python.framework/Versions/3.11/lib/python3.11/site-packages (from requests->transformers) (2.2.1)\n",
      "Requirement already satisfied: certifi>=2017.4.17 in /Library/Frameworks/Python.framework/Versions/3.11/lib/python3.11/site-packages (from requests->transformers) (2024.2.2)\n",
      "Installing collected packages: safetensors, pyyaml, fsspec, filelock, charset-normalizer, requests, huggingface-hub, tokenizers, transformers\n",
      "Successfully installed charset-normalizer-3.3.2 filelock-3.13.4 fsspec-2024.3.1 huggingface-hub-0.22.2 pyyaml-6.0.1 requests-2.31.0 safetensors-0.4.3 tokenizers-0.19.1 transformers-4.40.0\n",
      "\n",
      "\u001b[1m[\u001b[0m\u001b[34;49mnotice\u001b[0m\u001b[1;39;49m]\u001b[0m\u001b[39;49m A new release of pip is available: \u001b[0m\u001b[31;49m23.1.2\u001b[0m\u001b[39;49m -> \u001b[0m\u001b[32;49m24.0\u001b[0m\n",
      "\u001b[1m[\u001b[0m\u001b[34;49mnotice\u001b[0m\u001b[1;39;49m]\u001b[0m\u001b[39;49m To update, run: \u001b[0m\u001b[32;49mpip3 install --upgrade pip\u001b[0m\n",
      "Note: you may need to restart the kernel to use updated packages.\n"
     ]
    }
   ],
   "source": [
    "# pip install transformers"
   ]
  },
  {
   "cell_type": "code",
   "execution_count": 189,
   "metadata": {},
   "outputs": [
    {
     "name": "stdout",
     "output_type": "stream",
     "text": [
      "Collecting torch\n",
      "  Downloading torch-2.2.2-cp311-none-macosx_11_0_arm64.whl (59.7 MB)\n",
      "\u001b[2K     \u001b[90m━━━━━━━━━━━━━━━━━━━━━━━━━━━━━━━━━━━━━━━\u001b[0m \u001b[32m59.7/59.7 MB\u001b[0m \u001b[31m850.0 kB/s\u001b[0m eta \u001b[36m0:00:00\u001b[0m00:01\u001b[0m0:02\u001b[0mm\n",
      "\u001b[?25hRequirement already satisfied: filelock in /Library/Frameworks/Python.framework/Versions/3.11/lib/python3.11/site-packages (from torch) (3.13.4)\n",
      "Requirement already satisfied: typing-extensions>=4.8.0 in /Library/Frameworks/Python.framework/Versions/3.11/lib/python3.11/site-packages (from torch) (4.11.0)\n",
      "Collecting sympy (from torch)\n",
      "  Downloading sympy-1.12-py3-none-any.whl (5.7 MB)\n",
      "\u001b[2K     \u001b[90m━━━━━━━━━━━━━━━━━━━━━━━━━━━━━━━━━━━━━━━━\u001b[0m \u001b[32m5.7/5.7 MB\u001b[0m \u001b[31m855.1 kB/s\u001b[0m eta \u001b[36m0:00:00\u001b[0m00:01\u001b[0m00:01\u001b[0m\n",
      "\u001b[?25hCollecting networkx (from torch)\n",
      "  Downloading networkx-3.3-py3-none-any.whl (1.7 MB)\n",
      "\u001b[2K     \u001b[90m━━━━━━━━━━━━━━━━━━━━━━━━━━━━━━━━━━━━━━━━\u001b[0m \u001b[32m1.7/1.7 MB\u001b[0m \u001b[31m772.1 kB/s\u001b[0m eta \u001b[36m0:00:00\u001b[0m00:01\u001b[0m00:01\u001b[0m\n",
      "\u001b[?25hRequirement already satisfied: jinja2 in /Library/Frameworks/Python.framework/Versions/3.11/lib/python3.11/site-packages (from torch) (3.1.3)\n",
      "Requirement already satisfied: fsspec in /Library/Frameworks/Python.framework/Versions/3.11/lib/python3.11/site-packages (from torch) (2024.3.1)\n",
      "Requirement already satisfied: MarkupSafe>=2.0 in /Library/Frameworks/Python.framework/Versions/3.11/lib/python3.11/site-packages (from jinja2->torch) (2.1.5)\n",
      "Collecting mpmath>=0.19 (from sympy->torch)\n",
      "  Downloading mpmath-1.3.0-py3-none-any.whl (536 kB)\n",
      "\u001b[2K     \u001b[90m━━━━━━━━━━━━━━━━━━━━━━━━━━━━━━━━━━━━━\u001b[0m \u001b[32m536.2/536.2 kB\u001b[0m \u001b[31m916.4 kB/s\u001b[0m eta \u001b[36m0:00:00\u001b[0m00:01\u001b[0m00:01\u001b[0m\n",
      "\u001b[?25hInstalling collected packages: mpmath, sympy, networkx, torch\n",
      "Successfully installed mpmath-1.3.0 networkx-3.3 sympy-1.12 torch-2.2.2\n",
      "\n",
      "\u001b[1m[\u001b[0m\u001b[34;49mnotice\u001b[0m\u001b[1;39;49m]\u001b[0m\u001b[39;49m A new release of pip is available: \u001b[0m\u001b[31;49m23.1.2\u001b[0m\u001b[39;49m -> \u001b[0m\u001b[32;49m24.0\u001b[0m\n",
      "\u001b[1m[\u001b[0m\u001b[34;49mnotice\u001b[0m\u001b[1;39;49m]\u001b[0m\u001b[39;49m To update, run: \u001b[0m\u001b[32;49mpip3 install --upgrade pip\u001b[0m\n",
      "Note: you may need to restart the kernel to use updated packages.\n"
     ]
    }
   ],
   "source": [
    "# pip install torch"
   ]
  },
  {
   "cell_type": "code",
   "execution_count": 15,
   "metadata": {},
   "outputs": [
    {
     "data": {
      "text/html": [
       "<div>\n",
       "<style scoped>\n",
       "    .dataframe tbody tr th:only-of-type {\n",
       "        vertical-align: middle;\n",
       "    }\n",
       "\n",
       "    .dataframe tbody tr th {\n",
       "        vertical-align: top;\n",
       "    }\n",
       "\n",
       "    .dataframe thead th {\n",
       "        text-align: right;\n",
       "    }\n",
       "</style>\n",
       "<table border=\"1\" class=\"dataframe\">\n",
       "  <thead>\n",
       "    <tr style=\"text-align: right;\">\n",
       "      <th></th>\n",
       "      <th>Unnamed: 0</th>\n",
       "      <th>Tweets</th>\n",
       "    </tr>\n",
       "  </thead>\n",
       "  <tbody>\n",
       "    <tr>\n",
       "      <th>0</th>\n",
       "      <td>0</td>\n",
       "      <td>The Big \"M\"s And The \"D\"\\nമാർക്കറ്റ് ഒക്കെ ഇത്...</td>\n",
       "    </tr>\n",
       "    <tr>\n",
       "      <th>1</th>\n",
       "      <td>1</td>\n",
       "      <td>Megastar Mammookka &amp; Mohanlal latest click \\n\\...</td>\n",
       "    </tr>\n",
       "    <tr>\n",
       "      <th>2</th>\n",
       "      <td>2</td>\n",
       "      <td>Teaser cuts getting ready \\n\\n#Bazooka #Mammoo...</td>\n",
       "    </tr>\n",
       "    <tr>\n",
       "      <th>3</th>\n",
       "      <td>3</td>\n",
       "      <td>#Turbo Malta release through \\n@indeser_films\\...</td>\n",
       "    </tr>\n",
       "    <tr>\n",
       "      <th>4</th>\n",
       "      <td>4</td>\n",
       "      <td>King &amp; Prince \\n@mammukka\\n @dulQuer\\n \\n#Mam...</td>\n",
       "    </tr>\n",
       "    <tr>\n",
       "      <th>5</th>\n",
       "      <td>5</td>\n",
       "      <td>Pic \\n\\n#Mammootty</td>\n",
       "    </tr>\n",
       "    <tr>\n",
       "      <th>6</th>\n",
       "      <td>6</td>\n",
       "      <td>Mammookka..Kunju Mariyam \\n\\nGrand Father &amp; Gr...</td>\n",
       "    </tr>\n",
       "  </tbody>\n",
       "</table>\n",
       "</div>"
      ],
      "text/plain": [
       "   Unnamed: 0                                             Tweets\n",
       "0           0  The Big \"M\"s And The \"D\"\\nമാർക്കറ്റ് ഒക്കെ ഇത്...\n",
       "1           1  Megastar Mammookka & Mohanlal latest click \\n\\...\n",
       "2           2  Teaser cuts getting ready \\n\\n#Bazooka #Mammoo...\n",
       "3           3  #Turbo Malta release through \\n@indeser_films\\...\n",
       "4           4   King & Prince \\n@mammukka\\n @dulQuer\\n \\n#Mam...\n",
       "5           5                                 Pic \\n\\n#Mammootty\n",
       "6           6  Mammookka..Kunju Mariyam \\n\\nGrand Father & Gr..."
      ]
     },
     "execution_count": 15,
     "metadata": {},
     "output_type": "execute_result"
    }
   ],
   "source": [
    "import pandas as pd\n",
    "import re\n",
    "df=pd.read_csv('twitterscrap.csv')\n",
    "df"
   ]
  },
  {
   "cell_type": "code",
   "execution_count": 16,
   "metadata": {},
   "outputs": [],
   "source": [
    "df.drop('Unnamed: 0',axis=1,inplace=True)"
   ]
  },
  {
   "cell_type": "code",
   "execution_count": 17,
   "metadata": {},
   "outputs": [
    {
     "data": {
      "text/html": [
       "<div>\n",
       "<style scoped>\n",
       "    .dataframe tbody tr th:only-of-type {\n",
       "        vertical-align: middle;\n",
       "    }\n",
       "\n",
       "    .dataframe tbody tr th {\n",
       "        vertical-align: top;\n",
       "    }\n",
       "\n",
       "    .dataframe thead th {\n",
       "        text-align: right;\n",
       "    }\n",
       "</style>\n",
       "<table border=\"1\" class=\"dataframe\">\n",
       "  <thead>\n",
       "    <tr style=\"text-align: right;\">\n",
       "      <th></th>\n",
       "      <th>Tweets</th>\n",
       "    </tr>\n",
       "  </thead>\n",
       "  <tbody>\n",
       "    <tr>\n",
       "      <th>0</th>\n",
       "      <td>The Big \"M\"s And The \"D\"\\nമാർക്കറ്റ് ഒക്കെ ഇത്...</td>\n",
       "    </tr>\n",
       "    <tr>\n",
       "      <th>1</th>\n",
       "      <td>Megastar Mammookka &amp; Mohanlal latest click \\n\\...</td>\n",
       "    </tr>\n",
       "    <tr>\n",
       "      <th>2</th>\n",
       "      <td>Teaser cuts getting ready \\n\\n#Bazooka #Mammoo...</td>\n",
       "    </tr>\n",
       "    <tr>\n",
       "      <th>3</th>\n",
       "      <td>#Turbo Malta release through \\n@indeser_films\\...</td>\n",
       "    </tr>\n",
       "    <tr>\n",
       "      <th>4</th>\n",
       "      <td>King &amp; Prince \\n@mammukka\\n @dulQuer\\n \\n#Mam...</td>\n",
       "    </tr>\n",
       "    <tr>\n",
       "      <th>5</th>\n",
       "      <td>Pic \\n\\n#Mammootty</td>\n",
       "    </tr>\n",
       "    <tr>\n",
       "      <th>6</th>\n",
       "      <td>Mammookka..Kunju Mariyam \\n\\nGrand Father &amp; Gr...</td>\n",
       "    </tr>\n",
       "  </tbody>\n",
       "</table>\n",
       "</div>"
      ],
      "text/plain": [
       "                                              Tweets\n",
       "0  The Big \"M\"s And The \"D\"\\nമാർക്കറ്റ് ഒക്കെ ഇത്...\n",
       "1  Megastar Mammookka & Mohanlal latest click \\n\\...\n",
       "2  Teaser cuts getting ready \\n\\n#Bazooka #Mammoo...\n",
       "3  #Turbo Malta release through \\n@indeser_films\\...\n",
       "4   King & Prince \\n@mammukka\\n @dulQuer\\n \\n#Mam...\n",
       "5                                 Pic \\n\\n#Mammootty\n",
       "6  Mammookka..Kunju Mariyam \\n\\nGrand Father & Gr..."
      ]
     },
     "execution_count": 17,
     "metadata": {},
     "output_type": "execute_result"
    }
   ],
   "source": [
    "df"
   ]
  },
  {
   "cell_type": "code",
   "execution_count": 18,
   "metadata": {},
   "outputs": [],
   "source": [
    "from googletrans import Translator\n",
    "translator=Translator()\n",
    "cleaned_tweet=[]\n",
    "for i in df['Tweets']:\n",
    "    d=translator.translate(i,dest='en')\n",
    "    cleaned_tweet.append(d.text)"
   ]
  },
  {
   "cell_type": "code",
   "execution_count": 19,
   "metadata": {},
   "outputs": [],
   "source": [
    "df['translated_tweet']=cleaned_tweet"
   ]
  },
  {
   "cell_type": "code",
   "execution_count": 20,
   "metadata": {},
   "outputs": [
    {
     "data": {
      "text/html": [
       "<div>\n",
       "<style scoped>\n",
       "    .dataframe tbody tr th:only-of-type {\n",
       "        vertical-align: middle;\n",
       "    }\n",
       "\n",
       "    .dataframe tbody tr th {\n",
       "        vertical-align: top;\n",
       "    }\n",
       "\n",
       "    .dataframe thead th {\n",
       "        text-align: right;\n",
       "    }\n",
       "</style>\n",
       "<table border=\"1\" class=\"dataframe\">\n",
       "  <thead>\n",
       "    <tr style=\"text-align: right;\">\n",
       "      <th></th>\n",
       "      <th>Tweets</th>\n",
       "      <th>translated_tweet</th>\n",
       "    </tr>\n",
       "  </thead>\n",
       "  <tbody>\n",
       "    <tr>\n",
       "      <th>0</th>\n",
       "      <td>The Big \"M\"s And The \"D\"\\nമാർക്കറ്റ് ഒക്കെ ഇത്...</td>\n",
       "      <td>The Big \"m\" s and the \"d\"\\nTo know the major P...</td>\n",
       "    </tr>\n",
       "    <tr>\n",
       "      <th>1</th>\n",
       "      <td>Megastar Mammookka &amp; Mohanlal latest click \\n\\...</td>\n",
       "      <td>Megastar Mamownka &amp; Mohanlal Latest Click\\n\\n#...</td>\n",
       "    </tr>\n",
       "    <tr>\n",
       "      <th>2</th>\n",
       "      <td>Teaser cuts getting ready \\n\\n#Bazooka #Mammoo...</td>\n",
       "      <td>Teaser cuts getting ready \\n\\n#Bazooka #Mammoo...</td>\n",
       "    </tr>\n",
       "    <tr>\n",
       "      <th>3</th>\n",
       "      <td>#Turbo Malta release through \\n@indeser_films\\...</td>\n",
       "      <td>#Turbo Malta release through \\n@indeser_films\\...</td>\n",
       "    </tr>\n",
       "    <tr>\n",
       "      <th>4</th>\n",
       "      <td>King &amp; Prince \\n@mammukka\\n @dulQuer\\n \\n#Mam...</td>\n",
       "      <td>King &amp; Prince\\n@Mammkkakka\\n @Dulquer\\n \\n#Mam...</td>\n",
       "    </tr>\n",
       "    <tr>\n",
       "      <th>5</th>\n",
       "      <td>Pic \\n\\n#Mammootty</td>\n",
       "      <td>Pic \\n\\n#Mammootty</td>\n",
       "    </tr>\n",
       "    <tr>\n",
       "      <th>6</th>\n",
       "      <td>Mammookka..Kunju Mariyam \\n\\nGrand Father &amp; Gr...</td>\n",
       "      <td>Mamownka..Kunju Mariyam\\n\\nGrand Father &amp; Gran...</td>\n",
       "    </tr>\n",
       "  </tbody>\n",
       "</table>\n",
       "</div>"
      ],
      "text/plain": [
       "                                              Tweets  \\\n",
       "0  The Big \"M\"s And The \"D\"\\nമാർക്കറ്റ് ഒക്കെ ഇത്...   \n",
       "1  Megastar Mammookka & Mohanlal latest click \\n\\...   \n",
       "2  Teaser cuts getting ready \\n\\n#Bazooka #Mammoo...   \n",
       "3  #Turbo Malta release through \\n@indeser_films\\...   \n",
       "4   King & Prince \\n@mammukka\\n @dulQuer\\n \\n#Mam...   \n",
       "5                                 Pic \\n\\n#Mammootty   \n",
       "6  Mammookka..Kunju Mariyam \\n\\nGrand Father & Gr...   \n",
       "\n",
       "                                    translated_tweet  \n",
       "0  The Big \"m\" s and the \"d\"\\nTo know the major P...  \n",
       "1  Megastar Mamownka & Mohanlal Latest Click\\n\\n#...  \n",
       "2  Teaser cuts getting ready \\n\\n#Bazooka #Mammoo...  \n",
       "3  #Turbo Malta release through \\n@indeser_films\\...  \n",
       "4  King & Prince\\n@Mammkkakka\\n @Dulquer\\n \\n#Mam...  \n",
       "5                                 Pic \\n\\n#Mammootty  \n",
       "6  Mamownka..Kunju Mariyam\\n\\nGrand Father & Gran...  "
      ]
     },
     "execution_count": 20,
     "metadata": {},
     "output_type": "execute_result"
    }
   ],
   "source": [
    "df"
   ]
  },
  {
   "cell_type": "code",
   "execution_count": 23,
   "metadata": {},
   "outputs": [],
   "source": [
    "def cleaned(t):\n",
    "    clean=re.sub('\\n',' ',t)\n",
    "    clean=clean.lower()\n",
    "    clean=re.sub(r'[~.,%/:;?_&+*=!-]',' ',clean)\n",
    "    clean=re.sub(r'[^a-z]',' ',clean)\n",
    "    clean=clean.lstrip()\n",
    "    clean=re.sub('\\s{2, }',' ',clean)\n",
    "    return clean\n",
    "df['cleaned_tweets']=df['translated_tweet'].apply(cleaned)"
   ]
  },
  {
   "cell_type": "code",
   "execution_count": 24,
   "metadata": {},
   "outputs": [
    {
     "data": {
      "text/html": [
       "<div>\n",
       "<style scoped>\n",
       "    .dataframe tbody tr th:only-of-type {\n",
       "        vertical-align: middle;\n",
       "    }\n",
       "\n",
       "    .dataframe tbody tr th {\n",
       "        vertical-align: top;\n",
       "    }\n",
       "\n",
       "    .dataframe thead th {\n",
       "        text-align: right;\n",
       "    }\n",
       "</style>\n",
       "<table border=\"1\" class=\"dataframe\">\n",
       "  <thead>\n",
       "    <tr style=\"text-align: right;\">\n",
       "      <th></th>\n",
       "      <th>Tweets</th>\n",
       "      <th>translated_tweet</th>\n",
       "      <th>cleaned_tweets</th>\n",
       "    </tr>\n",
       "  </thead>\n",
       "  <tbody>\n",
       "    <tr>\n",
       "      <th>0</th>\n",
       "      <td>The Big \"M\"s And The \"D\"\\nമാർക്കറ്റ് ഒക്കെ ഇത്...</td>\n",
       "      <td>The Big \"m\" s and the \"d\"\\nTo know the major P...</td>\n",
       "      <td>the big  m  s and the  d  to know the major po...</td>\n",
       "    </tr>\n",
       "    <tr>\n",
       "      <th>1</th>\n",
       "      <td>Megastar Mammookka &amp; Mohanlal latest click \\n\\...</td>\n",
       "      <td>Megastar Mamownka &amp; Mohanlal Latest Click\\n\\n#...</td>\n",
       "      <td>megastar mamownka   mohanlal latest click   ma...</td>\n",
       "    </tr>\n",
       "    <tr>\n",
       "      <th>2</th>\n",
       "      <td>Teaser cuts getting ready \\n\\n#Bazooka #Mammoo...</td>\n",
       "      <td>Teaser cuts getting ready \\n\\n#Bazooka #Mammoo...</td>\n",
       "      <td>teaser cuts getting ready    bazooka  mammoott...</td>\n",
       "    </tr>\n",
       "    <tr>\n",
       "      <th>3</th>\n",
       "      <td>#Turbo Malta release through \\n@indeser_films\\...</td>\n",
       "      <td>#Turbo Malta release through \\n@indeser_films\\...</td>\n",
       "      <td>turbo malta release through   indeser films   ...</td>\n",
       "    </tr>\n",
       "    <tr>\n",
       "      <th>4</th>\n",
       "      <td>King &amp; Prince \\n@mammukka\\n @dulQuer\\n \\n#Mam...</td>\n",
       "      <td>King &amp; Prince\\n@Mammkkakka\\n @Dulquer\\n \\n#Mam...</td>\n",
       "      <td>king   prince  mammkkakka   dulquer    mammoot...</td>\n",
       "    </tr>\n",
       "    <tr>\n",
       "      <th>5</th>\n",
       "      <td>Pic \\n\\n#Mammootty</td>\n",
       "      <td>Pic \\n\\n#Mammootty</td>\n",
       "      <td>pic    mammootty</td>\n",
       "    </tr>\n",
       "    <tr>\n",
       "      <th>6</th>\n",
       "      <td>Mammookka..Kunju Mariyam \\n\\nGrand Father &amp; Gr...</td>\n",
       "      <td>Mamownka..Kunju Mariyam\\n\\nGrand Father &amp; Gran...</td>\n",
       "      <td>mamownka  kunju mariyam  grand father   grand ...</td>\n",
       "    </tr>\n",
       "  </tbody>\n",
       "</table>\n",
       "</div>"
      ],
      "text/plain": [
       "                                              Tweets  \\\n",
       "0  The Big \"M\"s And The \"D\"\\nമാർക്കറ്റ് ഒക്കെ ഇത്...   \n",
       "1  Megastar Mammookka & Mohanlal latest click \\n\\...   \n",
       "2  Teaser cuts getting ready \\n\\n#Bazooka #Mammoo...   \n",
       "3  #Turbo Malta release through \\n@indeser_films\\...   \n",
       "4   King & Prince \\n@mammukka\\n @dulQuer\\n \\n#Mam...   \n",
       "5                                 Pic \\n\\n#Mammootty   \n",
       "6  Mammookka..Kunju Mariyam \\n\\nGrand Father & Gr...   \n",
       "\n",
       "                                    translated_tweet  \\\n",
       "0  The Big \"m\" s and the \"d\"\\nTo know the major P...   \n",
       "1  Megastar Mamownka & Mohanlal Latest Click\\n\\n#...   \n",
       "2  Teaser cuts getting ready \\n\\n#Bazooka #Mammoo...   \n",
       "3  #Turbo Malta release through \\n@indeser_films\\...   \n",
       "4  King & Prince\\n@Mammkkakka\\n @Dulquer\\n \\n#Mam...   \n",
       "5                                 Pic \\n\\n#Mammootty   \n",
       "6  Mamownka..Kunju Mariyam\\n\\nGrand Father & Gran...   \n",
       "\n",
       "                                      cleaned_tweets  \n",
       "0  the big  m  s and the  d  to know the major po...  \n",
       "1  megastar mamownka   mohanlal latest click   ma...  \n",
       "2  teaser cuts getting ready    bazooka  mammoott...  \n",
       "3  turbo malta release through   indeser films   ...  \n",
       "4  king   prince  mammkkakka   dulquer    mammoot...  \n",
       "5                                   pic    mammootty  \n",
       "6  mamownka  kunju mariyam  grand father   grand ...  "
      ]
     },
     "execution_count": 24,
     "metadata": {},
     "output_type": "execute_result"
    }
   ],
   "source": [
    "df"
   ]
  },
  {
   "cell_type": "code",
   "execution_count": 8,
   "metadata": {},
   "outputs": [
    {
     "data": {
      "text/plain": [
       "'Malayalam is a language spoken in the state of Kerala and partial central government in India in India and Pondichumi district of the Nilgiri Nicobar Islands and the Andamar Nicobar Islands'"
      ]
     },
     "execution_count": 8,
     "metadata": {},
     "output_type": "execute_result"
    }
   ],
   "source": [
    "# from googletrans import Translator\n",
    "# translator=Translator()\n",
    "# d=translator.translate('ഇന്ത്യയിൽ കേരള സംസ്ഥാനത്തിലും ഭാഗികമായി കേന്ദ്രഭരണ പ്രദേശങ്ങളായ ലക്ഷദ്വീപിലും പോണ്ടിച്ചേരിയുടെ ഭാഗമായ മാഹിയിലും തമിഴ്നാട്ടിലെ കന്യാകുമാരി ജില്ലയിലും നീലഗിരി ജില്ലയിലെ ഗൂഡല്ലൂർ താലൂക്കിലും ആൻഡമാൻ നിക്കോബാർ ദ്വീപുകളിലും സംസാരിക്കപ്പെടുന്ന ഭാഷയാണ് മലയാളം',dest='en')\n",
    "# d.text"
   ]
  },
  {
   "cell_type": "code",
   "execution_count": 25,
   "metadata": {},
   "outputs": [
    {
     "name": "stderr",
     "output_type": "stream",
     "text": [
      "/Users/thushinbhanu/anaconda3/envs/face/lib/python3.9/site-packages/tqdm/auto.py:21: TqdmWarning: IProgress not found. Please update jupyter and ipywidgets. See https://ipywidgets.readthedocs.io/en/stable/user_install.html\n",
      "  from .autonotebook import tqdm as notebook_tqdm\n",
      "No model was supplied, defaulted to distilbert/distilbert-base-uncased-finetuned-sst-2-english and revision af0f99b (https://huggingface.co/distilbert/distilbert-base-uncased-finetuned-sst-2-english).\n",
      "Using a pipeline without specifying a model name and revision in production is not recommended.\n"
     ]
    }
   ],
   "source": [
    "from transformers import pipeline\n",
    "nlp_sentence=pipeline('sentiment-analysis')"
   ]
  },
  {
   "cell_type": "code",
   "execution_count": 34,
   "metadata": {},
   "outputs": [
    {
     "data": {
      "text/plain": [
       "[{'label': 'NEGATIVE', 'score': 0.9808119535446167}]"
      ]
     },
     "execution_count": 34,
     "metadata": {},
     "output_type": "execute_result"
    }
   ],
   "source": [
    "nlp_sentence('bazooka')"
   ]
  },
  {
   "cell_type": "code",
   "execution_count": 27,
   "metadata": {},
   "outputs": [],
   "source": [
    "data=df['cleaned_tweets']\n",
    "def predict_toxicity(comment):\n",
    "    sentiment=nlp_sentence(comment)\n",
    "    return sentiment[0]['label']\n",
    "def count_toxicity(data):\n",
    "    positive_count=0\n",
    "    negative_count=0\n",
    "    for comment in data:\n",
    "        sentiment=predict_toxicity(comment)\n",
    "        if sentiment=='POSITIVE':\n",
    "            positive_count+=1\n",
    "        else:\n",
    "            negative_count+=1\n",
    "    total_comments=positive_count+negative_count\n",
    "    positive_percentage=(positive_count/total_comments)*100\n",
    "    negative_percentage=(negative_count/total_comments)*100\n",
    "    return positive_percentage,negative_percentage"
   ]
  },
  {
   "cell_type": "code",
   "execution_count": 31,
   "metadata": {},
   "outputs": [
    {
     "data": {
      "text/plain": [
       "('Percentage of negative comments: 85.71%',\n",
       " 'Percentage of positive comments: 14.29%')"
      ]
     },
     "execution_count": 31,
     "metadata": {},
     "output_type": "execute_result"
    }
   ],
   "source": [
    "positive_percentage_total, negative_percentage_total=count_toxicity(df['cleaned_tweets'])\n",
    "positive_percentage=(f'Percentage of positive comments: {positive_percentage_total:.2f}%')\n",
    "negative_percentage=(f'Percentage of negative comments: {negative_percentage_total:.2f}%')\n",
    "text=df['cleaned_tweets'].values\n",
    "negative_percentage,positive_percentage"
   ]
  },
  {
   "cell_type": "code",
   "execution_count": 32,
   "metadata": {},
   "outputs": [
    {
     "data": {
      "text/html": [
       "<div>\n",
       "<style scoped>\n",
       "    .dataframe tbody tr th:only-of-type {\n",
       "        vertical-align: middle;\n",
       "    }\n",
       "\n",
       "    .dataframe tbody tr th {\n",
       "        vertical-align: top;\n",
       "    }\n",
       "\n",
       "    .dataframe thead th {\n",
       "        text-align: right;\n",
       "    }\n",
       "</style>\n",
       "<table border=\"1\" class=\"dataframe\">\n",
       "  <thead>\n",
       "    <tr style=\"text-align: right;\">\n",
       "      <th></th>\n",
       "      <th>Tweets</th>\n",
       "      <th>translated_tweet</th>\n",
       "      <th>cleaned_tweets</th>\n",
       "    </tr>\n",
       "  </thead>\n",
       "  <tbody>\n",
       "    <tr>\n",
       "      <th>0</th>\n",
       "      <td>The Big \"M\"s And The \"D\"\\nമാർക്കറ്റ് ഒക്കെ ഇത്...</td>\n",
       "      <td>The Big \"m\" s and the \"d\"\\nTo know the major P...</td>\n",
       "      <td>the big  m  s and the  d  to know the major po...</td>\n",
       "    </tr>\n",
       "    <tr>\n",
       "      <th>1</th>\n",
       "      <td>Megastar Mammookka &amp; Mohanlal latest click \\n\\...</td>\n",
       "      <td>Megastar Mamownka &amp; Mohanlal Latest Click\\n\\n#...</td>\n",
       "      <td>megastar mamownka   mohanlal latest click   ma...</td>\n",
       "    </tr>\n",
       "    <tr>\n",
       "      <th>2</th>\n",
       "      <td>Teaser cuts getting ready \\n\\n#Bazooka #Mammoo...</td>\n",
       "      <td>Teaser cuts getting ready \\n\\n#Bazooka #Mammoo...</td>\n",
       "      <td>teaser cuts getting ready    bazooka  mammoott...</td>\n",
       "    </tr>\n",
       "    <tr>\n",
       "      <th>3</th>\n",
       "      <td>#Turbo Malta release through \\n@indeser_films\\...</td>\n",
       "      <td>#Turbo Malta release through \\n@indeser_films\\...</td>\n",
       "      <td>turbo malta release through   indeser films   ...</td>\n",
       "    </tr>\n",
       "    <tr>\n",
       "      <th>4</th>\n",
       "      <td>King &amp; Prince \\n@mammukka\\n @dulQuer\\n \\n#Mam...</td>\n",
       "      <td>King &amp; Prince\\n@Mammkkakka\\n @Dulquer\\n \\n#Mam...</td>\n",
       "      <td>king   prince  mammkkakka   dulquer    mammoot...</td>\n",
       "    </tr>\n",
       "    <tr>\n",
       "      <th>5</th>\n",
       "      <td>Pic \\n\\n#Mammootty</td>\n",
       "      <td>Pic \\n\\n#Mammootty</td>\n",
       "      <td>pic    mammootty</td>\n",
       "    </tr>\n",
       "    <tr>\n",
       "      <th>6</th>\n",
       "      <td>Mammookka..Kunju Mariyam \\n\\nGrand Father &amp; Gr...</td>\n",
       "      <td>Mamownka..Kunju Mariyam\\n\\nGrand Father &amp; Gran...</td>\n",
       "      <td>mamownka  kunju mariyam  grand father   grand ...</td>\n",
       "    </tr>\n",
       "  </tbody>\n",
       "</table>\n",
       "</div>"
      ],
      "text/plain": [
       "                                              Tweets  \\\n",
       "0  The Big \"M\"s And The \"D\"\\nമാർക്കറ്റ് ഒക്കെ ഇത്...   \n",
       "1  Megastar Mammookka & Mohanlal latest click \\n\\...   \n",
       "2  Teaser cuts getting ready \\n\\n#Bazooka #Mammoo...   \n",
       "3  #Turbo Malta release through \\n@indeser_films\\...   \n",
       "4   King & Prince \\n@mammukka\\n @dulQuer\\n \\n#Mam...   \n",
       "5                                 Pic \\n\\n#Mammootty   \n",
       "6  Mammookka..Kunju Mariyam \\n\\nGrand Father & Gr...   \n",
       "\n",
       "                                    translated_tweet  \\\n",
       "0  The Big \"m\" s and the \"d\"\\nTo know the major P...   \n",
       "1  Megastar Mamownka & Mohanlal Latest Click\\n\\n#...   \n",
       "2  Teaser cuts getting ready \\n\\n#Bazooka #Mammoo...   \n",
       "3  #Turbo Malta release through \\n@indeser_films\\...   \n",
       "4  King & Prince\\n@Mammkkakka\\n @Dulquer\\n \\n#Mam...   \n",
       "5                                 Pic \\n\\n#Mammootty   \n",
       "6  Mamownka..Kunju Mariyam\\n\\nGrand Father & Gran...   \n",
       "\n",
       "                                      cleaned_tweets  \n",
       "0  the big  m  s and the  d  to know the major po...  \n",
       "1  megastar mamownka   mohanlal latest click   ma...  \n",
       "2  teaser cuts getting ready    bazooka  mammoott...  \n",
       "3  turbo malta release through   indeser films   ...  \n",
       "4  king   prince  mammkkakka   dulquer    mammoot...  \n",
       "5                                   pic    mammootty  \n",
       "6  mamownka  kunju mariyam  grand father   grand ...  "
      ]
     },
     "execution_count": 32,
     "metadata": {},
     "output_type": "execute_result"
    }
   ],
   "source": [
    "df"
   ]
  },
  {
   "cell_type": "code",
   "execution_count": 33,
   "metadata": {},
   "outputs": [
    {
     "data": {
      "text/plain": [
       "array(['the big  m  s and the  d  to know the major potential of the malayalam cinema  the market is large   mammoottty  dulquersalmaan  mohanlal',\n",
       "       'megastar mamownka   mohanlal latest click   mammoottty  mammutka  megastarmmootty',\n",
       "       'teaser cuts getting ready    bazooka  mammootty   mammukka',\n",
       "       'turbo malta release through   indeser films     mammootty   mammukka',\n",
       "       'king   prince  mammkkakka   dulquer    mammootty  dulchersalmaan',\n",
       "       'pic    mammootty',\n",
       "       'mamownka  kunju mariyam  grand father   grand daugter   mammoottty'],\n",
       "      dtype=object)"
      ]
     },
     "execution_count": 33,
     "metadata": {},
     "output_type": "execute_result"
    }
   ],
   "source": [
    "text"
   ]
  },
  {
   "cell_type": "code",
   "execution_count": null,
   "metadata": {},
   "outputs": [],
   "source": []
  }
 ],
 "metadata": {
  "kernelspec": {
   "display_name": "Python 3",
   "language": "python",
   "name": "python3"
  },
  "language_info": {
   "codemirror_mode": {
    "name": "ipython",
    "version": 3
   },
   "file_extension": ".py",
   "mimetype": "text/x-python",
   "name": "python",
   "nbconvert_exporter": "python",
   "pygments_lexer": "ipython3",
   "version": "3.9.18"
  }
 },
 "nbformat": 4,
 "nbformat_minor": 2
}
